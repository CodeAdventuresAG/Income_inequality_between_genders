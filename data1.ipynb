{
 "cells": [
  {
   "cell_type": "code",
   "execution_count": 2,
   "metadata": {},
   "outputs": [],
   "source": [
    "import pandas as pd\n",
    "import numpy as np"
   ]
  },
  {
   "cell_type": "code",
   "execution_count": 3,
   "metadata": {},
   "outputs": [],
   "source": [
    "## taking the y variable with columns: country and unadjusted pay gap\n",
    "y =  pd.read_csv(\"lonbg.csv\")"
   ]
  },
  {
   "cell_type": "code",
   "execution_count": 5,
   "metadata": {},
   "outputs": [
    {
     "data": {
      "text/html": [
       "<div>\n",
       "<style scoped>\n",
       "    .dataframe tbody tr th:only-of-type {\n",
       "        vertical-align: middle;\n",
       "    }\n",
       "\n",
       "    .dataframe tbody tr th {\n",
       "        vertical-align: top;\n",
       "    }\n",
       "\n",
       "    .dataframe thead th {\n",
       "        text-align: right;\n",
       "    }\n",
       "</style>\n",
       "<table border=\"1\" class=\"dataframe\">\n",
       "  <thead>\n",
       "    <tr style=\"text-align: right;\">\n",
       "      <th></th>\n",
       "      <th>country</th>\n",
       "      <th>unadjusted_gender_pay_gap</th>\n",
       "    </tr>\n",
       "  </thead>\n",
       "  <tbody>\n",
       "    <tr>\n",
       "      <th>0</th>\n",
       "      <td>Latvia</td>\n",
       "      <td>19.0</td>\n",
       "    </tr>\n",
       "    <tr>\n",
       "      <th>1</th>\n",
       "      <td>Austria</td>\n",
       "      <td>18.3</td>\n",
       "    </tr>\n",
       "    <tr>\n",
       "      <th>2</th>\n",
       "      <td>Czechia</td>\n",
       "      <td>18.0</td>\n",
       "    </tr>\n",
       "    <tr>\n",
       "      <th>3</th>\n",
       "      <td>Hungary</td>\n",
       "      <td>17.8</td>\n",
       "    </tr>\n",
       "    <tr>\n",
       "      <th>4</th>\n",
       "      <td>Germany</td>\n",
       "      <td>17.6</td>\n",
       "    </tr>\n",
       "    <tr>\n",
       "      <th>5</th>\n",
       "      <td>Estonia</td>\n",
       "      <td>16.9</td>\n",
       "    </tr>\n",
       "    <tr>\n",
       "      <th>6</th>\n",
       "      <td>Finland</td>\n",
       "      <td>16.8</td>\n",
       "    </tr>\n",
       "    <tr>\n",
       "      <th>7</th>\n",
       "      <td>Slovakia</td>\n",
       "      <td>15.7</td>\n",
       "    </tr>\n",
       "    <tr>\n",
       "      <th>8</th>\n",
       "      <td>Denmark</td>\n",
       "      <td>14.0</td>\n",
       "    </tr>\n",
       "    <tr>\n",
       "      <th>9</th>\n",
       "      <td>Greece</td>\n",
       "      <td>13.6</td>\n",
       "    </tr>\n",
       "    <tr>\n",
       "      <th>10</th>\n",
       "      <td>Bulgaria</td>\n",
       "      <td>13.5</td>\n",
       "    </tr>\n",
       "    <tr>\n",
       "      <th>11</th>\n",
       "      <td>Netherlands</td>\n",
       "      <td>12.5</td>\n",
       "    </tr>\n",
       "    <tr>\n",
       "      <th>12</th>\n",
       "      <td>France</td>\n",
       "      <td>12.2</td>\n",
       "    </tr>\n",
       "    <tr>\n",
       "      <th>13</th>\n",
       "      <td>Cyprus</td>\n",
       "      <td>12.2</td>\n",
       "    </tr>\n",
       "    <tr>\n",
       "      <th>14</th>\n",
       "      <td>Lithuania</td>\n",
       "      <td>11.5</td>\n",
       "    </tr>\n",
       "    <tr>\n",
       "      <th>15</th>\n",
       "      <td>Sweden</td>\n",
       "      <td>11.2</td>\n",
       "    </tr>\n",
       "    <tr>\n",
       "      <th>16</th>\n",
       "      <td>Spain</td>\n",
       "      <td>9.2</td>\n",
       "    </tr>\n",
       "    <tr>\n",
       "      <th>17</th>\n",
       "      <td>Portugal</td>\n",
       "      <td>8.6</td>\n",
       "    </tr>\n",
       "    <tr>\n",
       "      <th>18</th>\n",
       "      <td>Ireland</td>\n",
       "      <td>8.6</td>\n",
       "    </tr>\n",
       "    <tr>\n",
       "      <th>19</th>\n",
       "      <td>Poland</td>\n",
       "      <td>7.8</td>\n",
       "    </tr>\n",
       "    <tr>\n",
       "      <th>20</th>\n",
       "      <td>Croatia</td>\n",
       "      <td>7.4</td>\n",
       "    </tr>\n",
       "    <tr>\n",
       "      <th>21</th>\n",
       "      <td>Slovenia</td>\n",
       "      <td>5.4</td>\n",
       "    </tr>\n",
       "    <tr>\n",
       "      <th>22</th>\n",
       "      <td>Malta</td>\n",
       "      <td>5.1</td>\n",
       "    </tr>\n",
       "    <tr>\n",
       "      <th>23</th>\n",
       "      <td>Romania</td>\n",
       "      <td>3.8</td>\n",
       "    </tr>\n",
       "    <tr>\n",
       "      <th>24</th>\n",
       "      <td>Italy</td>\n",
       "      <td>2.2</td>\n",
       "    </tr>\n",
       "    <tr>\n",
       "      <th>25</th>\n",
       "      <td>Belgium</td>\n",
       "      <td>0.7</td>\n",
       "    </tr>\n",
       "    <tr>\n",
       "      <th>26</th>\n",
       "      <td>Luxembourg</td>\n",
       "      <td>-0.9</td>\n",
       "    </tr>\n",
       "    <tr>\n",
       "      <th>27</th>\n",
       "      <td>Switzerland</td>\n",
       "      <td>17.2</td>\n",
       "    </tr>\n",
       "    <tr>\n",
       "      <th>28</th>\n",
       "      <td>Norway</td>\n",
       "      <td>12.8</td>\n",
       "    </tr>\n",
       "    <tr>\n",
       "      <th>29</th>\n",
       "      <td>Iceland</td>\n",
       "      <td>9.8</td>\n",
       "    </tr>\n",
       "  </tbody>\n",
       "</table>\n",
       "</div>"
      ],
      "text/plain": [
       "        country  unadjusted_gender_pay_gap\n",
       "0        Latvia                       19.0\n",
       "1       Austria                       18.3\n",
       "2       Czechia                       18.0\n",
       "3       Hungary                       17.8\n",
       "4       Germany                       17.6\n",
       "5       Estonia                       16.9\n",
       "6       Finland                       16.8\n",
       "7      Slovakia                       15.7\n",
       "8       Denmark                       14.0\n",
       "9        Greece                       13.6\n",
       "10     Bulgaria                       13.5\n",
       "11  Netherlands                       12.5\n",
       "12       France                       12.2\n",
       "13       Cyprus                       12.2\n",
       "14    Lithuania                       11.5\n",
       "15       Sweden                       11.2\n",
       "16        Spain                        9.2\n",
       "17     Portugal                        8.6\n",
       "18      Ireland                        8.6\n",
       "19       Poland                        7.8\n",
       "20      Croatia                        7.4\n",
       "21     Slovenia                        5.4\n",
       "22        Malta                        5.1\n",
       "23      Romania                        3.8\n",
       "24        Italy                        2.2\n",
       "25      Belgium                        0.7\n",
       "26   Luxembourg                       -0.9\n",
       "27  Switzerland                       17.2\n",
       "28       Norway                       12.8\n",
       "29      Iceland                        9.8"
      ]
     },
     "execution_count": 5,
     "metadata": {},
     "output_type": "execute_result"
    }
   ],
   "source": [
    "y"
   ]
  },
  {
   "cell_type": "markdown",
   "metadata": {},
   "source": [
    "## Education"
   ]
  },
  {
   "cell_type": "code",
   "execution_count": 4,
   "metadata": {},
   "outputs": [],
   "source": [
    "## reading the data for the x variable education\n",
    "education = pd.read_csv(\"tertiary_education.csv\")"
   ]
  },
  {
   "cell_type": "code",
   "execution_count": 5,
   "metadata": {},
   "outputs": [],
   "source": [
    "## filtering the data for the year 2023\n",
    "education[\"Tertiary_Education(%)\"] = education[\"2023\"]\n",
    "education = education.drop([\"2023\"], axis=1)"
   ]
  },
  {
   "cell_type": "code",
   "execution_count": null,
   "metadata": {},
   "outputs": [
    {
     "data": {
      "text/html": [
       "<div>\n",
       "<style scoped>\n",
       "    .dataframe tbody tr th:only-of-type {\n",
       "        vertical-align: middle;\n",
       "    }\n",
       "\n",
       "    .dataframe tbody tr th {\n",
       "        vertical-align: top;\n",
       "    }\n",
       "\n",
       "    .dataframe thead th {\n",
       "        text-align: right;\n",
       "    }\n",
       "</style>\n",
       "<table border=\"1\" class=\"dataframe\">\n",
       "  <thead>\n",
       "    <tr style=\"text-align: right;\">\n",
       "      <th></th>\n",
       "      <th>country</th>\n",
       "      <th>Tertiary_Education(%)</th>\n",
       "    </tr>\n",
       "  </thead>\n",
       "  <tbody>\n",
       "    <tr>\n",
       "      <th>0</th>\n",
       "      <td>EU</td>\n",
       "      <td>84.1</td>\n",
       "    </tr>\n",
       "    <tr>\n",
       "      <th>31</th>\n",
       "      <td>Serbia</td>\n",
       "      <td>93.7</td>\n",
       "    </tr>\n",
       "    <tr>\n",
       "      <th>32</th>\n",
       "      <td>Bosnia and Herzegovina</td>\n",
       "      <td>91.9</td>\n",
       "    </tr>\n",
       "    <tr>\n",
       "      <th>33</th>\n",
       "      <td>Turkey</td>\n",
       "      <td>76.5</td>\n",
       "    </tr>\n",
       "  </tbody>\n",
       "</table>\n",
       "</div>"
      ],
      "text/plain": [
       "                   country  Tertiary_Education(%)\n",
       "0                       EU                   84.1\n",
       "31                  Serbia                   93.7\n",
       "32  Bosnia and Herzegovina                   91.9\n",
       "33                  Turkey                   76.5"
      ]
     },
     "execution_count": 13,
     "metadata": {},
     "output_type": "execute_result"
    }
   ],
   "source": [
    "## Checking the countries which are not in the y variable\n",
    "education[~education[\"country\"].isin(y[\"country\"])].dropna()"
   ]
  },
  {
   "cell_type": "code",
   "execution_count": 6,
   "metadata": {},
   "outputs": [],
   "source": [
    "## adding the education data and the y variable in a new dataframe\n",
    "df = pd.merge(y, education, how=\"left\", left_on=\"country\", right_on=\"country\")"
   ]
  },
  {
   "cell_type": "markdown",
   "metadata": {},
   "source": [
    "## GDP per capita PPS"
   ]
  },
  {
   "cell_type": "code",
   "execution_count": 7,
   "metadata": {},
   "outputs": [],
   "source": [
    "## reading the data for the x variable GDP\n",
    "gdp = pd.read_csv(\"GDP per capita in PPS_tec00114.csv\")"
   ]
  },
  {
   "cell_type": "code",
   "execution_count": 8,
   "metadata": {},
   "outputs": [],
   "source": [
    "## selecting the columns of interest and filtering for the year 2023\n",
    "col=[\"Geopolitical entity (reporting)\", \"TIME_PERIOD\", \"OBS_VALUE\"]\n",
    "gdp = gdp[col][gdp[\"TIME_PERIOD\"] == 2023]\n",
    "\n",
    "## renaming the columns\n",
    "gdp[\"GDP_perCapitaPPS\"] = gdp[\"OBS_VALUE\"]\n",
    "gdp = gdp.drop([\"OBS_VALUE\", \"TIME_PERIOD\"], axis=1)"
   ]
  },
  {
   "cell_type": "code",
   "execution_count": 9,
   "metadata": {},
   "outputs": [],
   "source": [
    "## adding gdp data to the dataframe with education and y variable\n",
    "df = pd.merge(df, gdp, how=\"left\", left_on=\"country\", right_on=\"Geopolitical entity (reporting)\").drop(columns=\"Geopolitical entity (reporting)\", axis=1)"
   ]
  },
  {
   "cell_type": "markdown",
   "metadata": {},
   "source": [
    "## Region"
   ]
  },
  {
   "cell_type": "code",
   "execution_count": null,
   "metadata": {},
   "outputs": [],
   "source": [
    "text = \"Northern Europe: Denmark, Isle of Man, Estonia, Faroe Islands (Denmark), Finland (incl. Åland Islands), United Kingdom, Guernsey, Ireland, Jersey, Latvia, Lithuania, Norway, Svalbard and Jan Mayen, Iceland, Sweden./n Eastern Europe: Bulgaria, Hungary, Moldova, Ukraine, Poland, Romania, Russia (West of the Urals), Slovakia, Czech Republic, Belarus./n Southern Europe: Albania, Andorra, Bosnia-Herzegovina, Gibraltar, Greece, Italy, Kosovo, Croatia, Macedonia, Malta, Montenegro, Portugal, San Marino, Serbia, Slovenia, Spain, Turkey (European part), Vatican City./n Western Europe: Belgium, Germany, France, Liechtenstein, Luxembourg, Monaco, Netherlands, Austria, Switzerland.\""
   ]
  },
  {
   "cell_type": "code",
   "execution_count": 10,
   "metadata": {},
   "outputs": [],
   "source": [
    "## reading the data for the x variable geographical regions\n",
    "regions = pd.read_csv('world_regions.csv')"
   ]
  },
  {
   "cell_type": "code",
   "execution_count": 11,
   "metadata": {},
   "outputs": [],
   "source": [
    "## choosing the columns of interest and renaming them\n",
    "col = ['Region Name', 'Sub-region Name', 'Country or Area']\n",
    "regions = regions[col].drop([\"Region Name\"], axis=1).rename(columns={\"Sub-region Name\": \"Geographical_region\", \"Country or Area\": \"country\"})\n",
    "\n",
    "\n",
    "# df = pd.merge(df, regions, how=\"left\", left_on=\"country\", right_on=\"country\").drop(columns=\"country\", axis=1)\n",
    "# regions[col][regions[\"Country or Area\"].isin(df[\"country\"])]\n",
    "# regions[col][regions['Region Name'] == 'Europe']"
   ]
  },
  {
   "cell_type": "code",
   "execution_count": 12,
   "metadata": {},
   "outputs": [],
   "source": [
    "## adding the geographical regions data to the dataframe\n",
    "df = pd.merge(df, regions, how=\"left\", left_on=\"country\", right_on=\"country\")"
   ]
  },
  {
   "cell_type": "markdown",
   "metadata": {},
   "source": [
    "## Maternity leave"
   ]
  },
  {
   "cell_type": "code",
   "execution_count": 13,
   "metadata": {},
   "outputs": [],
   "source": [
    "## reading the data for the x variable maternity leave entitlements\n",
    "maternity = pd.read_csv('PF2_5_Trends_in_leave_entitlements_around_childbirth__editting.csv')"
   ]
  },
  {
   "cell_type": "code",
   "execution_count": 14,
   "metadata": {},
   "outputs": [],
   "source": [
    "## choosing the columns of interest i.e., country and maternity leave weeks which tells about number of weeks of maternity leave a mother is entitled to before and after childbirth in the year 2023\n",
    "col = ['Country', 'Maternity_weeks']\n",
    "maternity = maternity[maternity[\"Year\"] == 2023][col]\n",
    "\n",
    "# maternity[(maternity['Year'] == 2023) | (maternity['Maternity_weeks'] == 'Number of weeks of maternity leave')][maternity[\"Country\"].isin(df[\"country\"]) | (maternity['Maternity_weeks'] == 'Number of weeks of maternity leave')]"
   ]
  },
  {
   "cell_type": "code",
   "execution_count": 41,
   "metadata": {},
   "outputs": [
    {
     "name": "stdout",
     "output_type": "stream",
     "text": [
      "number of countries unavailable: 6\n",
      "7     Slovakia\n",
      "10    Bulgaria\n",
      "13      Cyprus\n",
      "20     Croatia\n",
      "22       Malta\n",
      "23     Romania\n",
      "Name: country, dtype: object\n"
     ]
    }
   ],
   "source": [
    "## these are the countries which are not in the maternity weeks variable but is in the y variable\n",
    "## these are the countries maternity leave data is to be added later\n",
    "print(f'number of countries unavailable: {y[~y[\"country\"].isin(maternity['Country'])].dropna()['country'].count()}')\n",
    "print(y[~y[\"country\"].isin(maternity['Country'])].dropna()['country'])"
   ]
  },
  {
   "cell_type": "code",
   "execution_count": 15,
   "metadata": {},
   "outputs": [],
   "source": [
    "## adding the maternity leave data to the dataframe\n",
    "df = pd.merge(df, maternity, how=\"left\", left_on=\"country\", right_on=\"Country\").drop(columns=\"Country\", axis=1)"
   ]
  },
  {
   "cell_type": "markdown",
   "metadata": {},
   "source": [
    "## "
   ]
  },
  {
   "cell_type": "markdown",
   "metadata": {},
   "source": [
    "## Long term unemployment"
   ]
  },
  {
   "cell_type": "code",
   "execution_count": 16,
   "metadata": {},
   "outputs": [],
   "source": [
    "ltunem = pd.read_csv('long_term_unemployment_males.csv')\n",
    "ltunemf = pd.read_csv('long_term_unemployment_females.csv')"
   ]
  },
  {
   "cell_type": "code",
   "execution_count": 24,
   "metadata": {},
   "outputs": [],
   "source": [
    "col = ['OBS_VALUE', 'TIME_PERIOD', 'Geopolitical entity (reporting)']\n",
    "ltunem = ltunem[col].rename(columns={\"OBS_VALUE\": \"male_unemployment_rate\", \"Geopolitical entity (reporting)\": \"country\"}).drop(\"TIME_PERIOD\", axis=1)\n",
    "ltunemf = ltunemf[col].rename(columns={\"OBS_VALUE\": \"female_unemployment_rate\", \"Geopolitical entity (reporting)\": \"country\"}).drop(\"TIME_PERIOD\", axis=1)"
   ]
  },
  {
   "cell_type": "code",
   "execution_count": 27,
   "metadata": {},
   "outputs": [],
   "source": [
    "df = pd.merge(df, ltunemf, how=\"left\", left_on=\"country\", right_on=\"country\")\n",
    "df = pd.merge(df, ltunem, how=\"left\", left_on=\"country\", right_on=\"country\")"
   ]
  },
  {
   "cell_type": "markdown",
   "metadata": {},
   "source": [
    "## Gender pay gap in part-time employment"
   ]
  },
  {
   "cell_type": "code",
   "execution_count": 36,
   "metadata": {},
   "outputs": [],
   "source": [
    "gpgptem = pd.read_csv('gender_pay_gap_part_time_employment.csv')"
   ]
  },
  {
   "cell_type": "code",
   "execution_count": 38,
   "metadata": {},
   "outputs": [],
   "source": [
    "gpgptem = gpgptem[col].rename(columns={\"OBS_VALUE\": \"gender_pay_gap_part_time_employment\", \"Geopolitical entity (reporting)\": \"country\"}).drop(\"TIME_PERIOD\", axis=1)"
   ]
  },
  {
   "cell_type": "code",
   "execution_count": 40,
   "metadata": {},
   "outputs": [],
   "source": [
    "df = pd.merge(df, gpgptem, how=\"left\", left_on=\"country\", right_on=\"country\")"
   ]
  },
  {
   "cell_type": "markdown",
   "metadata": {},
   "source": [
    "## People having a long-standing illness or health problem by sex"
   ]
  },
  {
   "cell_type": "code",
   "execution_count": 55,
   "metadata": {},
   "outputs": [],
   "source": [
    "health_problems_male = pd.read_csv('long_standing_illness_or_health_problem_males.csv')\n",
    "health_problems_female = pd.read_csv('long_standing_illness_or_health_problem_females.csv')"
   ]
  },
  {
   "cell_type": "code",
   "execution_count": 58,
   "metadata": {},
   "outputs": [],
   "source": [
    "col = ['OBS_VALUE', 'Geopolitical entity (reporting)']\n",
    "health_problems_female = health_problems_female[col].rename(columns={\"OBS_VALUE\": \"long_term_health_problems_female\", \"Geopolitical entity (reporting)\": \"country\"})\n",
    "health_problems_male = health_problems_male[col].rename(columns={\"OBS_VALUE\": \"long_term_health_problems_male\", \"Geopolitical entity (reporting)\": \"country\"})"
   ]
  },
  {
   "cell_type": "code",
   "execution_count": 61,
   "metadata": {},
   "outputs": [],
   "source": [
    "df = pd.merge(df, health_problems_male, how=\"left\", left_on=\"country\", right_on=\"country\")\n",
    "df = pd.merge(df, health_problems_female, how=\"left\", left_on=\"country\", right_on=\"country\")"
   ]
  },
  {
   "cell_type": "code",
   "execution_count": null,
   "metadata": {},
   "outputs": [],
   "source": []
  }
 ],
 "metadata": {
  "kernelspec": {
   "display_name": "Python 3",
   "language": "python",
   "name": "python3"
  },
  "language_info": {
   "codemirror_mode": {
    "name": "ipython",
    "version": 3
   },
   "file_extension": ".py",
   "mimetype": "text/x-python",
   "name": "python",
   "nbconvert_exporter": "python",
   "pygments_lexer": "ipython3",
   "version": "3.12.3"
  }
 },
 "nbformat": 4,
 "nbformat_minor": 2
}
