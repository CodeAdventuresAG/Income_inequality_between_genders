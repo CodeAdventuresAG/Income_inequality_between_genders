{
 "cells": [
  {
   "cell_type": "code",
   "execution_count": 1,
   "metadata": {},
   "outputs": [],
   "source": [
    "import pandas as pd\n",
    "import numpy as np"
   ]
  },
  {
   "cell_type": "code",
   "execution_count": 2,
   "metadata": {},
   "outputs": [],
   "source": [
    "y =  pd.read_csv(\"lonbg.csv\")"
   ]
  },
  {
   "cell_type": "code",
   "execution_count": 3,
   "metadata": {},
   "outputs": [
    {
     "data": {
      "text/plain": [
       "Index(['STRUCTURE', 'STRUCTURE_ID', 'STRUCTURE_NAME', 'freq', 'Time frequency',\n",
       "       'unit', 'Unit of measure', 'sex', 'Sex', 'isced11',\n",
       "       'International Standard Classification of Education (ISCED 2011)',\n",
       "       'age', 'Age class', 'geo', 'Geopolitical entity (reporting)',\n",
       "       'TIME_PERIOD', 'Time', 'OBS_VALUE', 'Observation value', 'OBS_FLAG',\n",
       "       'Observation status (Flag) V2 structure', 'CONF_STATUS',\n",
       "       'Confidentiality status (flag)'],\n",
       "      dtype='object')"
      ]
     },
     "execution_count": 3,
     "metadata": {},
     "output_type": "execute_result"
    }
   ],
   "source": [
    "education = pd.read_csv(\"Population_by_educational_attainment_level_sex_and_age_15to64.csv\")\n",
    "education.columns"
   ]
  },
  {
   "cell_type": "code",
   "execution_count": 4,
   "metadata": {},
   "outputs": [
    {
     "data": {
      "text/plain": [
       "array(['Less than primary, primary and lower secondary education (levels 0-2)',\n",
       "       'Upper secondary, post-secondary non-tertiary and tertiary education (levels 3-8)',\n",
       "       'Upper secondary and post-secondary non-tertiary education (levels 3 and 4)',\n",
       "       'Upper secondary and post-secondary non-tertiary education (levels 3 and 4) - general',\n",
       "       'Upper secondary and post-secondary non-tertiary education (levels 3 and 4) - vocational'],\n",
       "      dtype=object)"
      ]
     },
     "execution_count": 4,
     "metadata": {},
     "output_type": "execute_result"
    }
   ],
   "source": [
    "education[\"International Standard Classification of Education (ISCED 2011)\"].unique()"
   ]
  },
  {
   "cell_type": "code",
   "execution_count": 4,
   "metadata": {},
   "outputs": [],
   "source": [
    "education[\"Country\"] = education[\"Geopolitical entity (reporting)\"]\n",
    "education = education.drop([\"Geopolitical entity (reporting)\"], axis=1)\n",
    "col = [\"Country\", \"TIME_PERIOD\", \"International Standard Classification of Education (ISCED 2011)\", \"OBS_VALUE\"]"
   ]
  },
  {
   "cell_type": "code",
   "execution_count": 8,
   "metadata": {},
   "outputs": [
    {
     "name": "stderr",
     "output_type": "stream",
     "text": [
      "C:\\Users\\Ananya Gyanmote\\AppData\\Local\\Temp\\ipykernel_90492\\4127424079.py:1: UserWarning: Boolean Series key will be reindexed to match DataFrame index.\n",
      "  x_education = education[col][education[\"International Standard Classification of Education (ISCED 2011)\"] == \"Upper secondary, post-secondary non-tertiary and tertiary education (levels 3-8)\"][education[\"TIME_PERIOD\"] == 2023].reset_index()\n"
     ]
    }
   ],
   "source": [
    "x_education = education[col][education[\"International Standard Classification of Education (ISCED 2011)\"] == \"Upper secondary, post-secondary non-tertiary and tertiary education (levels 3-8)\"][education[\"TIME_PERIOD\"] == 2023].reset_index()"
   ]
  },
  {
   "cell_type": "code",
   "execution_count": 40,
   "metadata": {},
   "outputs": [
    {
     "data": {
      "text/plain": [
       "8           Austria\n",
       "21          Belgium\n",
       "31         Bulgaria\n",
       "41      Switzerland\n",
       "51           Cyprus\n",
       "           ...     \n",
       "1332       Portugal\n",
       "1336        Romania\n",
       "1344         Sweden\n",
       "1348       Slovenia\n",
       "1352       Slovakia\n",
       "Name: country, Length: 150, dtype: object"
      ]
     },
     "execution_count": 40,
     "metadata": {},
     "output_type": "execute_result"
    }
   ],
   "source": [
    "x_education[x_education['country'].isin(y[\"country\"])][\"country\"]"
   ]
  },
  {
   "cell_type": "code",
   "execution_count": 45,
   "metadata": {},
   "outputs": [
    {
     "data": {
      "text/plain": [
       "35"
      ]
     },
     "execution_count": 45,
     "metadata": {},
     "output_type": "execute_result"
    }
   ],
   "source": [
    "len(x_education[\"country\"].unique())"
   ]
  },
  {
   "cell_type": "code",
   "execution_count": 46,
   "metadata": {},
   "outputs": [
    {
     "data": {
      "text/plain": [
       "30"
      ]
     },
     "execution_count": 46,
     "metadata": {},
     "output_type": "execute_result"
    }
   ],
   "source": [
    "len(y[\"country\"].unique())"
   ]
  },
  {
   "cell_type": "code",
   "execution_count": 47,
   "metadata": {},
   "outputs": [
    {
     "data": {
      "text/html": [
       "<div>\n",
       "<style scoped>\n",
       "    .dataframe tbody tr th:only-of-type {\n",
       "        vertical-align: middle;\n",
       "    }\n",
       "\n",
       "    .dataframe tbody tr th {\n",
       "        vertical-align: top;\n",
       "    }\n",
       "\n",
       "    .dataframe thead th {\n",
       "        text-align: right;\n",
       "    }\n",
       "</style>\n",
       "<table border=\"1\" class=\"dataframe\">\n",
       "  <thead>\n",
       "    <tr style=\"text-align: right;\">\n",
       "      <th></th>\n",
       "      <th>TIME_PERIOD</th>\n",
       "      <th>OBS_VALUE</th>\n",
       "      <th>country</th>\n",
       "    </tr>\n",
       "  </thead>\n",
       "  <tbody>\n",
       "    <tr>\n",
       "      <th>12</th>\n",
       "      <td>2023</td>\n",
       "      <td>22.9</td>\n",
       "      <td>Bosnia and Herzegovina</td>\n",
       "    </tr>\n",
       "    <tr>\n",
       "      <th>91</th>\n",
       "      <td>2023</td>\n",
       "      <td>26.9</td>\n",
       "      <td>Euro area – 20 countries (from 2023)</td>\n",
       "    </tr>\n",
       "    <tr>\n",
       "      <th>131</th>\n",
       "      <td>2023</td>\n",
       "      <td>24.7</td>\n",
       "      <td>European Union - 27 countries (from 2020)</td>\n",
       "    </tr>\n",
       "    <tr>\n",
       "      <th>313</th>\n",
       "      <td>2023</td>\n",
       "      <td>19.8</td>\n",
       "      <td>Serbia</td>\n",
       "    </tr>\n",
       "    <tr>\n",
       "      <th>353</th>\n",
       "      <td>2023</td>\n",
       "      <td>53.1</td>\n",
       "      <td>Türkiye</td>\n",
       "    </tr>\n",
       "    <tr>\n",
       "      <th>372</th>\n",
       "      <td>2023</td>\n",
       "      <td>77.1</td>\n",
       "      <td>Bosnia and Herzegovina</td>\n",
       "    </tr>\n",
       "    <tr>\n",
       "      <th>451</th>\n",
       "      <td>2023</td>\n",
       "      <td>73.1</td>\n",
       "      <td>Euro area – 20 countries (from 2023)</td>\n",
       "    </tr>\n",
       "    <tr>\n",
       "      <th>491</th>\n",
       "      <td>2023</td>\n",
       "      <td>75.3</td>\n",
       "      <td>European Union - 27 countries (from 2020)</td>\n",
       "    </tr>\n",
       "    <tr>\n",
       "      <th>673</th>\n",
       "      <td>2023</td>\n",
       "      <td>80.2</td>\n",
       "      <td>Serbia</td>\n",
       "    </tr>\n",
       "    <tr>\n",
       "      <th>713</th>\n",
       "      <td>2023</td>\n",
       "      <td>46.9</td>\n",
       "      <td>Türkiye</td>\n",
       "    </tr>\n",
       "    <tr>\n",
       "      <th>732</th>\n",
       "      <td>2023</td>\n",
       "      <td>62.4</td>\n",
       "      <td>Bosnia and Herzegovina</td>\n",
       "    </tr>\n",
       "    <tr>\n",
       "      <th>811</th>\n",
       "      <td>2023</td>\n",
       "      <td>41.5</td>\n",
       "      <td>Euro area – 20 countries (from 2023)</td>\n",
       "    </tr>\n",
       "    <tr>\n",
       "      <th>851</th>\n",
       "      <td>2023</td>\n",
       "      <td>44.4</td>\n",
       "      <td>European Union - 27 countries (from 2020)</td>\n",
       "    </tr>\n",
       "    <tr>\n",
       "      <th>1033</th>\n",
       "      <td>2023</td>\n",
       "      <td>56.9</td>\n",
       "      <td>Serbia</td>\n",
       "    </tr>\n",
       "    <tr>\n",
       "      <th>1073</th>\n",
       "      <td>2023</td>\n",
       "      <td>25.1</td>\n",
       "      <td>Türkiye</td>\n",
       "    </tr>\n",
       "    <tr>\n",
       "      <th>1086</th>\n",
       "      <td>2023</td>\n",
       "      <td>5.7</td>\n",
       "      <td>Bosnia and Herzegovina</td>\n",
       "    </tr>\n",
       "    <tr>\n",
       "      <th>1117</th>\n",
       "      <td>2023</td>\n",
       "      <td>12.3</td>\n",
       "      <td>Euro area – 20 countries (from 2023)</td>\n",
       "    </tr>\n",
       "    <tr>\n",
       "      <th>1133</th>\n",
       "      <td>2023</td>\n",
       "      <td>12.3</td>\n",
       "      <td>European Union - 27 countries (from 2020)</td>\n",
       "    </tr>\n",
       "    <tr>\n",
       "      <th>1201</th>\n",
       "      <td>2023</td>\n",
       "      <td>5.7</td>\n",
       "      <td>Serbia</td>\n",
       "    </tr>\n",
       "    <tr>\n",
       "      <th>1217</th>\n",
       "      <td>2023</td>\n",
       "      <td>15.0</td>\n",
       "      <td>Türkiye</td>\n",
       "    </tr>\n",
       "    <tr>\n",
       "      <th>1225</th>\n",
       "      <td>2023</td>\n",
       "      <td>56.7</td>\n",
       "      <td>Bosnia and Herzegovina</td>\n",
       "    </tr>\n",
       "    <tr>\n",
       "      <th>1256</th>\n",
       "      <td>2023</td>\n",
       "      <td>29.2</td>\n",
       "      <td>Euro area – 20 countries (from 2023)</td>\n",
       "    </tr>\n",
       "    <tr>\n",
       "      <th>1272</th>\n",
       "      <td>2023</td>\n",
       "      <td>32.0</td>\n",
       "      <td>European Union - 27 countries (from 2020)</td>\n",
       "    </tr>\n",
       "    <tr>\n",
       "      <th>1340</th>\n",
       "      <td>2023</td>\n",
       "      <td>51.2</td>\n",
       "      <td>Serbia</td>\n",
       "    </tr>\n",
       "    <tr>\n",
       "      <th>1356</th>\n",
       "      <td>2023</td>\n",
       "      <td>10.2</td>\n",
       "      <td>Türkiye</td>\n",
       "    </tr>\n",
       "  </tbody>\n",
       "</table>\n",
       "</div>"
      ],
      "text/plain": [
       "      TIME_PERIOD  OBS_VALUE                                    country\n",
       "12           2023       22.9                     Bosnia and Herzegovina\n",
       "91           2023       26.9       Euro area – 20 countries (from 2023)\n",
       "131          2023       24.7  European Union - 27 countries (from 2020)\n",
       "313          2023       19.8                                     Serbia\n",
       "353          2023       53.1                                    Türkiye\n",
       "372          2023       77.1                     Bosnia and Herzegovina\n",
       "451          2023       73.1       Euro area – 20 countries (from 2023)\n",
       "491          2023       75.3  European Union - 27 countries (from 2020)\n",
       "673          2023       80.2                                     Serbia\n",
       "713          2023       46.9                                    Türkiye\n",
       "732          2023       62.4                     Bosnia and Herzegovina\n",
       "811          2023       41.5       Euro area – 20 countries (from 2023)\n",
       "851          2023       44.4  European Union - 27 countries (from 2020)\n",
       "1033         2023       56.9                                     Serbia\n",
       "1073         2023       25.1                                    Türkiye\n",
       "1086         2023        5.7                     Bosnia and Herzegovina\n",
       "1117         2023       12.3       Euro area – 20 countries (from 2023)\n",
       "1133         2023       12.3  European Union - 27 countries (from 2020)\n",
       "1201         2023        5.7                                     Serbia\n",
       "1217         2023       15.0                                    Türkiye\n",
       "1225         2023       56.7                     Bosnia and Herzegovina\n",
       "1256         2023       29.2       Euro area – 20 countries (from 2023)\n",
       "1272         2023       32.0  European Union - 27 countries (from 2020)\n",
       "1340         2023       51.2                                     Serbia\n",
       "1356         2023       10.2                                    Türkiye"
      ]
     },
     "execution_count": 47,
     "metadata": {},
     "output_type": "execute_result"
    }
   ],
   "source": [
    "x_education[~x_education[\"country\"].isin(y[\"country\"])].dropna()"
   ]
  },
  {
   "cell_type": "code",
   "execution_count": null,
   "metadata": {},
   "outputs": [],
   "source": []
  }
 ],
 "metadata": {
  "kernelspec": {
   "display_name": ".venv",
   "language": "python",
   "name": "python3"
  },
  "language_info": {
   "codemirror_mode": {
    "name": "ipython",
    "version": 3
   },
   "file_extension": ".py",
   "mimetype": "text/x-python",
   "name": "python",
   "nbconvert_exporter": "python",
   "pygments_lexer": "ipython3",
   "version": "3.12.3"
  }
 },
 "nbformat": 4,
 "nbformat_minor": 2
}
